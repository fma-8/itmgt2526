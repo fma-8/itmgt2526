{
 "cells": [
  {
   "cell_type": "code",
   "execution_count": null,
   "id": "ecf7c5cc",
   "metadata": {},
   "outputs": [],
   "source": [
    "'''1. Find a way to save the text stored at https://www.gutenberg.org/cache/epub/10/pg10.txt into a Python variable called `pg10`.'''\n",
    "import urllib\n",
    "\n",
    "url = \"https://www.gutenberg.org/cache/epub/10/pg10.txt\"\n",
    "openurl = urllib.request.urlopen(url)\n",
    "\n",
    "bytesfile = openurl.read()\n",
    "pg10 = bytesfile.decode('utf-8')"
   ]
  },
  {
   "cell_type": "code",
   "execution_count": 4,
   "id": "b13ac239",
   "metadata": {},
   "outputs": [
    {
     "data": {
      "text/plain": [
       "str"
      ]
     },
     "execution_count": 4,
     "metadata": {},
     "output_type": "execute_result"
    }
   ],
   "source": [
    "type(pg10)\n",
    "#confirming string conversion"
   ]
  },
  {
   "cell_type": "code",
   "execution_count": 3,
   "id": "e4bcaee3",
   "metadata": {},
   "outputs": [
    {
     "name": "stdout",
     "output_type": "stream",
     "text": [
      "The string has 99968 lines.\n"
     ]
    }
   ],
   "source": [
    "'''2. Using the string stored at `pg10` to answer the following questions:\n",
    "\n",
    "1. How many lines does the string have?'''\n",
    "\n",
    "print(f\"The string has {len(pg10.splitlines())} lines.\")"
   ]
  },
  {
   "cell_type": "code",
   "execution_count": 16,
   "id": "6ec173db",
   "metadata": {},
   "outputs": [
    {
     "name": "stdout",
     "output_type": "stream",
     "text": [
      "The string has 795227 words.\n"
     ]
    }
   ],
   "source": [
    "'''\n",
    "\n",
    "2. How many words does the string have? (where a word is any set of directly-adjacent alphabet characters)\n",
    "\n",
    "'''\n",
    "uppercase = 'ABCDEFGHIJKLMNOPQRSTUVWXYZ'\n",
    "lowercase = 'abcdefghijklmnopqrstuvwxyz'\n",
    "\n",
    "total = []\n",
    "current = ''\n",
    "\n",
    "for letter in pg10:\n",
    "    if letter in uppercase or letter in lowercase:\n",
    "        current += letter\n",
    "    else:\n",
    "        if current:\n",
    "            total.append(current)\n",
    "            current = ''\n",
    "    \n",
    "if current:\n",
    "    total.append(current)\n",
    "\n",
    "print(f\"The string has {len(total)} words.\")"
   ]
  },
  {
   "cell_type": "code",
   "execution_count": 17,
   "id": "98672093",
   "metadata": {},
   "outputs": [
    {
     "name": "stdout",
     "output_type": "stream",
     "text": [
      "The word 'apostle' appears 47 times.\n"
     ]
    }
   ],
   "source": [
    "''' 3. How many times does the word \"apostle\", ignoring capitalization, appear in the string?'''\n",
    "\n",
    "count = 0\n",
    "for i in total:\n",
    "    if i.lower() == 'apostle':\n",
    "        count += 1\n",
    "    else:\n",
    "        continue\n",
    "\n",
    "print(f\"The word 'apostle' appears {count} times.\")"
   ]
  },
  {
   "cell_type": "code",
   "execution_count": 18,
   "id": "a09b258c",
   "metadata": {},
   "outputs": [
    {
     "name": "stdout",
     "output_type": "stream",
     "text": [
      "The most commonly occurring word in the string is 'the', appearing 64309 times.\n"
     ]
    }
   ],
   "source": [
    "'''4. What is the most common word, ignoring capitalization, in the string? (where a word is any set of directly-adjacent alphabet characters)'''\n",
    "\n",
    "all_lower = []\n",
    "for i in total:\n",
    "    i.lower()\n",
    "    all_lower.append((i.lower()))\n",
    "\n",
    "appearance = {}\n",
    "\n",
    "for x in all_lower:\n",
    "    if x in appearance:\n",
    "        appearance[x] += 1\n",
    "    else: \n",
    "        appearance[x] = 1\n",
    "\n",
    "ans = max(appearance.items(), key=lambda x: x[1])\n",
    "print(f\"The most commonly occurring word in the string is '{ans[0]}', appearing {ans[1]} times.\")"
   ]
  },
  {
   "cell_type": "code",
   "execution_count": null,
   "id": "56d4dfd0",
   "metadata": {},
   "outputs": [],
   "source": []
  }
 ],
 "metadata": {
  "kernelspec": {
   "display_name": "base",
   "language": "python",
   "name": "python3"
  },
  "language_info": {
   "codemirror_mode": {
    "name": "ipython",
    "version": 3
   },
   "file_extension": ".py",
   "mimetype": "text/x-python",
   "name": "python",
   "nbconvert_exporter": "python",
   "pygments_lexer": "ipython3",
   "version": "3.12.7"
  }
 },
 "nbformat": 4,
 "nbformat_minor": 5
}
